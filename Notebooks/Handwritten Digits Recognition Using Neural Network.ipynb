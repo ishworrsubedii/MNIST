{
 "cells": [
  {
   "cell_type": "code",
   "execution_count": 1,
   "id": "5d412d54",
   "metadata": {},
   "outputs": [],
   "source": [
    "import cv2 as cv\n",
    "import pandas as pd\n",
    "import numpy as np\n",
    "import matplotlib.pyplot as plt\n",
    "import seaborn as sns\n",
    "import tensorflow as tf\n",
    "from keras.datasets import mnist\n",
    "from sklearn.model_selection import train_test_split\n",
    "from tensorflow.keras.models import Sequential\n",
    "from tensorflow.keras.layers import Dense\n",
    "from tensorflow.keras.activations import linear,relu,sigmoid\n",
    "from tensorflow.keras.losses import SparseCategoricalCrossentropy\n"
   ]
  },
  {
   "cell_type": "code",
   "execution_count": 3,
   "id": "d69a08e9",
   "metadata": {},
   "outputs": [],
   "source": [
    "train_data=pd.read_csv('C:/Users/ACER/Desktop/Handwritten Digits Recognition/Data/mnist_train.csv')\n",
    "test_data=pd.read_csv('C:/Users/ACER/Desktop/Handwritten Digits Recognition/Data/mnist_test.csv')"
   ]
  },
  {
   "cell_type": "code",
   "execution_count": 4,
   "id": "aa2fd377",
   "metadata": {},
   "outputs": [],
   "source": [
    "x_train=train_data.iloc[:,1:].values\n",
    "y_train=train_data.label.values\n",
    "x_=test_data.iloc[:,1:]\n",
    "y_=test_data.label\n"
   ]
  },
  {
   "cell_type": "code",
   "execution_count": 48,
   "id": "8e1fb668",
   "metadata": {},
   "outputs": [
    {
     "data": {
      "text/plain": [
       "-1"
      ]
     },
     "execution_count": 48,
     "metadata": {},
     "output_type": "execute_result"
    }
   ],
   "source": [
    "cv.imshow('image',x_train[1])\n",
    "cv.waitKey(0)"
   ]
  },
  {
   "cell_type": "code",
   "execution_count": 5,
   "id": "cab16734",
   "metadata": {},
   "outputs": [],
   "source": [
    "# Scaling\n",
    "x_train=x_train/255\n",
    "x_=x_/255"
   ]
  },
  {
   "cell_type": "code",
   "execution_count": 6,
   "id": "d5b12b15",
   "metadata": {},
   "outputs": [
    {
     "name": "stdout",
     "output_type": "stream",
     "text": [
      "\n",
      "x_train=(60000, 784)\n",
      "y_train=(60000,)\n",
      "x_test=(5000, 784)\n",
      "y_test=(5000,)\n",
      "x_cv=(5000, 784)\n",
      "y_cv=(5000,)\n",
      "\n",
      "\n"
     ]
    }
   ],
   "source": [
    "x_test,x_cv,y_test,y_cv=train_test_split(x_,y_,test_size=0.5,random_state=0)\n",
    "\n",
    "print(f'''\n",
    "x_train={x_train.shape}\n",
    "y_train={y_train.shape}\n",
    "x_test={x_test.shape}\n",
    "y_test={y_test.shape}\n",
    "x_cv={x_cv.shape}\n",
    "y_cv={y_cv.shape}\n",
    "\n",
    "''')"
   ]
  },
  {
   "cell_type": "code",
   "execution_count": 7,
   "id": "c8b1aa8f",
   "metadata": {},
   "outputs": [
    {
     "data": {
      "text/plain": [
       "array([0, 1, 2, 3, 4, 5, 6, 7, 8, 9], dtype=int64)"
      ]
     },
     "execution_count": 7,
     "metadata": {},
     "output_type": "execute_result"
    }
   ],
   "source": [
    "np.unique(y_train)"
   ]
  },
  {
   "cell_type": "code",
   "execution_count": 8,
   "id": "3075e90d",
   "metadata": {},
   "outputs": [
    {
     "data": {
      "text/plain": [
       "array([0, 1, 2, 3, 4, 5, 6, 7, 8, 9], dtype=int64)"
      ]
     },
     "execution_count": 8,
     "metadata": {},
     "output_type": "execute_result"
    }
   ],
   "source": [
    "np.unique(y_test)"
   ]
  },
  {
   "cell_type": "code",
   "execution_count": 9,
   "id": "9376b0e1",
   "metadata": {},
   "outputs": [
    {
     "data": {
      "text/plain": [
       "array([0, 1, 2, 3, 4, 5, 6, 7, 8, 9], dtype=int64)"
      ]
     },
     "execution_count": 9,
     "metadata": {},
     "output_type": "execute_result"
    }
   ],
   "source": [
    "np.unique(y_cv)"
   ]
  },
  {
   "cell_type": "code",
   "execution_count": 10,
   "id": "55b35e3b",
   "metadata": {},
   "outputs": [
    {
     "data": {
      "text/plain": [
       "(60000, 784)"
      ]
     },
     "execution_count": 10,
     "metadata": {},
     "output_type": "execute_result"
    }
   ],
   "source": [
    "x_train.shape"
   ]
  },
  {
   "cell_type": "code",
   "execution_count": 11,
   "id": "2c69bb69",
   "metadata": {},
   "outputs": [
    {
     "data": {
      "text/plain": [
       "(60000,)"
      ]
     },
     "execution_count": 11,
     "metadata": {},
     "output_type": "execute_result"
    }
   ],
   "source": [
    "y_train.shape"
   ]
  },
  {
   "cell_type": "code",
   "execution_count": 12,
   "id": "5bba2326",
   "metadata": {},
   "outputs": [],
   "source": [
    "def neural_network_function():\n",
    "    tf.random.set_seed(20)# Random state\n",
    "    model_1=Sequential([\n",
    "        Dense(units=25,activation='relu'),\n",
    "        Dense(units=15,activation='relu'),\n",
    "        Dense(units=10,activation='linear')\n",
    "\n",
    "\n",
    "    ],name='model_1')\n",
    "    \n",
    "    \n",
    "    model_2=Sequential([\n",
    "        Dense(units=20,activation='relu'),\n",
    "        Dense(units=12,activation='relu'),\n",
    "        Dense(units=12,activation='relu'),\n",
    "        Dense(units=20,activation='relu'),\n",
    "        Dense(units=10,activation='linear')\n",
    "        \n",
    "        \n",
    "    ],name='model_2')\n",
    "    model_3=Sequential([\n",
    "        Dense(units=32,activation='relu'),\n",
    "        Dense(units=16,activation='relu'),\n",
    "        Dense(units=8,activation='relu'),\n",
    "        Dense(units=4,activation='relu'),\n",
    "#         Dense(units=10,activation='relu'),\n",
    "        Dense(units=10,activation='linear')\n",
    "    ],name='model_3')\n",
    "    \n",
    "    \n",
    "    model_list=[model_1,model_2,model_3]\n",
    "                     \n",
    "    return model_list\n",
    "\n",
    "model_list=neural_network_function()"
   ]
  },
  {
   "cell_type": "code",
   "execution_count": 23,
   "id": "33c21849",
   "metadata": {
    "scrolled": false
   },
   "outputs": [
    {
     "name": "stdout",
     "output_type": "stream",
     "text": [
      "Training Model_1\n",
      "Epoch 1/40\n",
      "1875/1875 [==============================] - 5s 2ms/step - loss: 0.0315 - accuracy: 0.9897\n",
      "Epoch 2/40\n",
      "1875/1875 [==============================] - 4s 2ms/step - loss: 0.0343 - accuracy: 0.9888\n",
      "Epoch 3/40\n",
      "1875/1875 [==============================] - 5s 3ms/step - loss: 0.0315 - accuracy: 0.9898\n",
      "Epoch 4/40\n",
      "1875/1875 [==============================] - 5s 3ms/step - loss: 0.0310 - accuracy: 0.9895\n",
      "Epoch 5/40\n",
      "1875/1875 [==============================] - 5s 3ms/step - loss: 0.0305 - accuracy: 0.9898\n",
      "Epoch 6/40\n",
      "1875/1875 [==============================] - 5s 2ms/step - loss: 0.0298 - accuracy: 0.9901\n",
      "Epoch 7/40\n",
      "1875/1875 [==============================] - 5s 3ms/step - loss: 0.0289 - accuracy: 0.9903\n",
      "Epoch 8/40\n",
      "1875/1875 [==============================] - 4s 2ms/step - loss: 0.0288 - accuracy: 0.9901\n",
      "Epoch 9/40\n",
      "1875/1875 [==============================] - 4s 2ms/step - loss: 0.0275 - accuracy: 0.9906\n",
      "Epoch 10/40\n",
      "1875/1875 [==============================] - 4s 2ms/step - loss: 0.0283 - accuracy: 0.9905\n",
      "Epoch 11/40\n",
      "1875/1875 [==============================] - 4s 2ms/step - loss: 0.0240 - accuracy: 0.9917\n",
      "Epoch 12/40\n",
      "1875/1875 [==============================] - 4s 2ms/step - loss: 0.0276 - accuracy: 0.9906\n",
      "Epoch 13/40\n",
      "1875/1875 [==============================] - 4s 2ms/step - loss: 0.0266 - accuracy: 0.9908\n",
      "Epoch 14/40\n",
      "1875/1875 [==============================] - 5s 3ms/step - loss: 0.0245 - accuracy: 0.9914\n",
      "Epoch 15/40\n",
      "1875/1875 [==============================] - 5s 3ms/step - loss: 0.0249 - accuracy: 0.9916\n",
      "Epoch 16/40\n",
      "1875/1875 [==============================] - 5s 3ms/step - loss: 0.0240 - accuracy: 0.9916\n",
      "Epoch 17/40\n",
      "1875/1875 [==============================] - 5s 3ms/step - loss: 0.0233 - accuracy: 0.9919\n",
      "Epoch 18/40\n",
      "1875/1875 [==============================] - 5s 3ms/step - loss: 0.0252 - accuracy: 0.9916\n",
      "Epoch 19/40\n",
      "1875/1875 [==============================] - 5s 3ms/step - loss: 0.0208 - accuracy: 0.9926\n",
      "Epoch 20/40\n",
      "1875/1875 [==============================] - 4s 2ms/step - loss: 0.0241 - accuracy: 0.9917\n",
      "Epoch 21/40\n",
      "1875/1875 [==============================] - 5s 3ms/step - loss: 0.0217 - accuracy: 0.9926\n",
      "Epoch 22/40\n",
      "1875/1875 [==============================] - 4s 2ms/step - loss: 0.0234 - accuracy: 0.9919\n",
      "Epoch 23/40\n",
      "1875/1875 [==============================] - 4s 2ms/step - loss: 0.0212 - accuracy: 0.9929\n",
      "Epoch 24/40\n",
      "1875/1875 [==============================] - 4s 2ms/step - loss: 0.0208 - accuracy: 0.9928\n",
      "Epoch 25/40\n",
      "1875/1875 [==============================] - 4s 2ms/step - loss: 0.0208 - accuracy: 0.9931\n",
      "Epoch 26/40\n",
      "1875/1875 [==============================] - 5s 2ms/step - loss: 0.0202 - accuracy: 0.9927\n",
      "Epoch 27/40\n",
      "1875/1875 [==============================] - 4s 2ms/step - loss: 0.0195 - accuracy: 0.9932\n",
      "Epoch 28/40\n",
      "1875/1875 [==============================] - 3s 2ms/step - loss: 0.0205 - accuracy: 0.9931\n",
      "Epoch 29/40\n",
      "1875/1875 [==============================] - 4s 2ms/step - loss: 0.0191 - accuracy: 0.9937\n",
      "Epoch 30/40\n",
      "1875/1875 [==============================] - 4s 2ms/step - loss: 0.0214 - accuracy: 0.9925\n",
      "Epoch 31/40\n",
      "1875/1875 [==============================] - 4s 2ms/step - loss: 0.0186 - accuracy: 0.9937\n",
      "Epoch 32/40\n",
      "1875/1875 [==============================] - 5s 2ms/step - loss: 0.0190 - accuracy: 0.9933\n",
      "Epoch 33/40\n",
      "1875/1875 [==============================] - 4s 2ms/step - loss: 0.0186 - accuracy: 0.9932\n",
      "Epoch 34/40\n",
      "1875/1875 [==============================] - 4s 2ms/step - loss: 0.0178 - accuracy: 0.9937\n",
      "Epoch 35/40\n",
      "1875/1875 [==============================] - 5s 3ms/step - loss: 0.0184 - accuracy: 0.9937\n",
      "Epoch 36/40\n",
      "1875/1875 [==============================] - 5s 3ms/step - loss: 0.0172 - accuracy: 0.9938\n",
      "Epoch 37/40\n",
      "1875/1875 [==============================] - 5s 3ms/step - loss: 0.0176 - accuracy: 0.9939\n",
      "Epoch 38/40\n",
      "1875/1875 [==============================] - 5s 3ms/step - loss: 0.0178 - accuracy: 0.9936\n",
      "Epoch 39/40\n",
      "1875/1875 [==============================] - 5s 3ms/step - loss: 0.0162 - accuracy: 0.9944\n",
      "Epoch 40/40\n",
      "1875/1875 [==============================] - 4s 2ms/step - loss: 0.0185 - accuracy: 0.9937\n",
      "1875/1875 [==============================] - 4s 2ms/step - loss: 0.0127 - accuracy: 0.9954\n",
      "157/157 [==============================] - 0s 2ms/step - loss: 0.2767 - accuracy: 0.9600\n",
      "Training Model_2\n",
      "Epoch 1/40\n",
      "1875/1875 [==============================] - 6s 3ms/step - loss: 0.0449 - accuracy: 0.9853\n",
      "Epoch 2/40\n",
      "1875/1875 [==============================] - 5s 2ms/step - loss: 0.0475 - accuracy: 0.9846\n",
      "Epoch 3/40\n",
      "1875/1875 [==============================] - 4s 2ms/step - loss: 0.0459 - accuracy: 0.9852\n",
      "Epoch 4/40\n",
      "1875/1875 [==============================] - 4s 2ms/step - loss: 0.0442 - accuracy: 0.9858\n",
      "Epoch 5/40\n",
      "1875/1875 [==============================] - 4s 2ms/step - loss: 0.0444 - accuracy: 0.9852\n",
      "Epoch 6/40\n",
      "1875/1875 [==============================] - 5s 2ms/step - loss: 0.0432 - accuracy: 0.9857\n",
      "Epoch 7/40\n",
      "1875/1875 [==============================] - 4s 2ms/step - loss: 0.0448 - accuracy: 0.9855\n",
      "Epoch 8/40\n",
      "1875/1875 [==============================] - 5s 3ms/step - loss: 0.0399 - accuracy: 0.9870\n",
      "Epoch 9/40\n",
      "1875/1875 [==============================] - 4s 2ms/step - loss: 0.0427 - accuracy: 0.9860\n",
      "Epoch 10/40\n",
      "1875/1875 [==============================] - 4s 2ms/step - loss: 0.0419 - accuracy: 0.9867\n",
      "Epoch 11/40\n",
      "1875/1875 [==============================] - 4s 2ms/step - loss: 0.0383 - accuracy: 0.9876\n",
      "Epoch 12/40\n",
      "1875/1875 [==============================] - 4s 2ms/step - loss: 0.0404 - accuracy: 0.9867\n",
      "Epoch 13/40\n",
      "1875/1875 [==============================] - 4s 2ms/step - loss: 0.0381 - accuracy: 0.9873\n",
      "Epoch 14/40\n",
      "1875/1875 [==============================] - 4s 2ms/step - loss: 0.0383 - accuracy: 0.9876\n",
      "Epoch 15/40\n",
      "1875/1875 [==============================] - 4s 2ms/step - loss: 0.0381 - accuracy: 0.9874\n",
      "Epoch 16/40\n",
      "1875/1875 [==============================] - 4s 2ms/step - loss: 0.0372 - accuracy: 0.9878\n",
      "Epoch 17/40\n",
      "1875/1875 [==============================] - 4s 2ms/step - loss: 0.0358 - accuracy: 0.9878\n",
      "Epoch 18/40\n",
      "1875/1875 [==============================] - 5s 3ms/step - loss: 0.0379 - accuracy: 0.9872\n",
      "Epoch 19/40\n",
      "1875/1875 [==============================] - 5s 2ms/step - loss: 0.0357 - accuracy: 0.9880\n",
      "Epoch 20/40\n",
      "1875/1875 [==============================] - 5s 2ms/step - loss: 0.0367 - accuracy: 0.9879\n",
      "Epoch 21/40\n",
      "1875/1875 [==============================] - 5s 3ms/step - loss: 0.0363 - accuracy: 0.9881\n",
      "Epoch 22/40\n",
      "1875/1875 [==============================] - 5s 3ms/step - loss: 0.0351 - accuracy: 0.9882\n",
      "Epoch 23/40\n",
      "1875/1875 [==============================] - 5s 3ms/step - loss: 0.0338 - accuracy: 0.9888\n",
      "Epoch 24/40\n",
      "1875/1875 [==============================] - 5s 3ms/step - loss: 0.0351 - accuracy: 0.9882\n",
      "Epoch 25/40\n",
      "1875/1875 [==============================] - 5s 3ms/step - loss: 0.0346 - accuracy: 0.9885\n",
      "Epoch 26/40\n",
      "1875/1875 [==============================] - 5s 2ms/step - loss: 0.0336 - accuracy: 0.9885\n",
      "Epoch 27/40\n",
      "1875/1875 [==============================] - 5s 2ms/step - loss: 0.0313 - accuracy: 0.9900\n",
      "Epoch 28/40\n",
      "1875/1875 [==============================] - 5s 3ms/step - loss: 0.0344 - accuracy: 0.9890\n",
      "Epoch 29/40\n",
      "1875/1875 [==============================] - 4s 2ms/step - loss: 0.0327 - accuracy: 0.9892\n",
      "Epoch 30/40\n",
      "1875/1875 [==============================] - 4s 2ms/step - loss: 0.0317 - accuracy: 0.9894\n",
      "Epoch 31/40\n",
      "1875/1875 [==============================] - 5s 2ms/step - loss: 0.0339 - accuracy: 0.9891\n",
      "Epoch 32/40\n",
      "1875/1875 [==============================] - 5s 3ms/step - loss: 0.0304 - accuracy: 0.9903\n",
      "Epoch 33/40\n",
      "1875/1875 [==============================] - 5s 3ms/step - loss: 0.0334 - accuracy: 0.9886\n",
      "Epoch 34/40\n",
      "1875/1875 [==============================] - 5s 2ms/step - loss: 0.0322 - accuracy: 0.9891\n",
      "Epoch 35/40\n",
      "1875/1875 [==============================] - 5s 2ms/step - loss: 0.0304 - accuracy: 0.9902\n",
      "Epoch 36/40\n",
      "1875/1875 [==============================] - 5s 2ms/step - loss: 0.0313 - accuracy: 0.9897\n",
      "Epoch 37/40\n",
      "1875/1875 [==============================] - 5s 2ms/step - loss: 0.0286 - accuracy: 0.9907\n",
      "Epoch 38/40\n"
     ]
    },
    {
     "name": "stdout",
     "output_type": "stream",
     "text": [
      "1875/1875 [==============================] - 5s 2ms/step - loss: 0.0337 - accuracy: 0.9888\n",
      "Epoch 39/40\n",
      "1875/1875 [==============================] - 5s 2ms/step - loss: 0.0294 - accuracy: 0.9903\n",
      "Epoch 40/40\n",
      "1875/1875 [==============================] - 5s 2ms/step - loss: 0.0289 - accuracy: 0.9902\n",
      "1875/1875 [==============================] - 4s 2ms/step - loss: 0.0205 - accuracy: 0.9933\n",
      "157/157 [==============================] - 0s 2ms/step - loss: 0.2693 - accuracy: 0.9602\n",
      "Training Model_3\n",
      "Epoch 1/40\n",
      "1875/1875 [==============================] - 6s 3ms/step - loss: 0.0399 - accuracy: 0.9884\n",
      "Epoch 2/40\n",
      "1875/1875 [==============================] - 5s 3ms/step - loss: 0.0400 - accuracy: 0.9881\n",
      "Epoch 3/40\n",
      "1875/1875 [==============================] - 5s 3ms/step - loss: 0.0366 - accuracy: 0.9890\n",
      "Epoch 4/40\n",
      "1875/1875 [==============================] - 5s 3ms/step - loss: 0.0389 - accuracy: 0.9885\n",
      "Epoch 5/40\n",
      "1875/1875 [==============================] - 5s 3ms/step - loss: 0.0360 - accuracy: 0.9898\n",
      "Epoch 6/40\n",
      "1875/1875 [==============================] - 5s 3ms/step - loss: 0.0358 - accuracy: 0.9894\n",
      "Epoch 7/40\n",
      "1875/1875 [==============================] - 5s 2ms/step - loss: 0.0340 - accuracy: 0.9904\n",
      "Epoch 8/40\n",
      "1875/1875 [==============================] - 4s 2ms/step - loss: 0.0378 - accuracy: 0.9894\n",
      "Epoch 9/40\n",
      "1875/1875 [==============================] - 6s 3ms/step - loss: 0.0341 - accuracy: 0.9905\n",
      "Epoch 10/40\n",
      "1875/1875 [==============================] - 5s 3ms/step - loss: 0.0335 - accuracy: 0.9903\n",
      "Epoch 11/40\n",
      "1875/1875 [==============================] - 5s 3ms/step - loss: 0.0336 - accuracy: 0.9903\n",
      "Epoch 12/40\n",
      "1875/1875 [==============================] - 5s 2ms/step - loss: 0.0319 - accuracy: 0.9909\n",
      "Epoch 13/40\n",
      "1875/1875 [==============================] - 5s 3ms/step - loss: 0.0342 - accuracy: 0.9901\n",
      "Epoch 14/40\n",
      "1875/1875 [==============================] - 5s 3ms/step - loss: 0.0319 - accuracy: 0.9911\n",
      "Epoch 15/40\n",
      "1875/1875 [==============================] - 5s 3ms/step - loss: 0.0300 - accuracy: 0.9911\n",
      "Epoch 16/40\n",
      "1875/1875 [==============================] - 5s 3ms/step - loss: 0.0301 - accuracy: 0.9912\n",
      "Epoch 17/40\n",
      "1875/1875 [==============================] - 5s 3ms/step - loss: 0.0290 - accuracy: 0.9914\n",
      "Epoch 18/40\n",
      "1875/1875 [==============================] - 5s 2ms/step - loss: 0.0318 - accuracy: 0.9907\n",
      "Epoch 19/40\n",
      "1875/1875 [==============================] - 5s 2ms/step - loss: 0.0272 - accuracy: 0.9919\n",
      "Epoch 20/40\n",
      "1875/1875 [==============================] - 5s 3ms/step - loss: 0.0274 - accuracy: 0.9920\n",
      "Epoch 21/40\n",
      "1875/1875 [==============================] - 5s 3ms/step - loss: 0.0314 - accuracy: 0.9911\n",
      "Epoch 22/40\n",
      "1875/1875 [==============================] - 6s 3ms/step - loss: 0.0286 - accuracy: 0.9919\n",
      "Epoch 23/40\n",
      "1875/1875 [==============================] - 6s 3ms/step - loss: 0.0288 - accuracy: 0.9917\n",
      "Epoch 24/40\n",
      "1875/1875 [==============================] - 6s 3ms/step - loss: 0.0284 - accuracy: 0.9918\n",
      "Epoch 25/40\n",
      "1875/1875 [==============================] - 6s 3ms/step - loss: 0.0264 - accuracy: 0.9923\n",
      "Epoch 26/40\n",
      "1875/1875 [==============================] - 6s 3ms/step - loss: 0.0260 - accuracy: 0.9925\n",
      "Epoch 27/40\n",
      "1875/1875 [==============================] - 6s 3ms/step - loss: 0.0279 - accuracy: 0.9916\n",
      "Epoch 28/40\n",
      "1875/1875 [==============================] - 5s 3ms/step - loss: 0.0254 - accuracy: 0.9928\n",
      "Epoch 29/40\n",
      "1875/1875 [==============================] - 5s 2ms/step - loss: 0.0263 - accuracy: 0.9924\n",
      "Epoch 30/40\n",
      "1875/1875 [==============================] - 5s 3ms/step - loss: 0.0252 - accuracy: 0.9927\n",
      "Epoch 31/40\n",
      "1875/1875 [==============================] - 5s 3ms/step - loss: 0.0261 - accuracy: 0.9929\n",
      "Epoch 32/40\n",
      "1875/1875 [==============================] - 5s 3ms/step - loss: 0.0227 - accuracy: 0.9934\n",
      "Epoch 33/40\n",
      "1875/1875 [==============================] - 5s 2ms/step - loss: 0.0252 - accuracy: 0.9925\n",
      "Epoch 34/40\n",
      "1875/1875 [==============================] - 5s 2ms/step - loss: 0.0230 - accuracy: 0.9935\n",
      "Epoch 35/40\n",
      "1875/1875 [==============================] - 4s 2ms/step - loss: 0.0236 - accuracy: 0.9933\n",
      "Epoch 36/40\n",
      "1875/1875 [==============================] - 5s 2ms/step - loss: 0.0232 - accuracy: 0.9932\n",
      "Epoch 37/40\n",
      "1875/1875 [==============================] - 5s 2ms/step - loss: 0.0250 - accuracy: 0.9928\n",
      "Epoch 38/40\n",
      "1875/1875 [==============================] - 5s 3ms/step - loss: 0.0214 - accuracy: 0.9943\n",
      "Epoch 39/40\n",
      "1875/1875 [==============================] - 5s 3ms/step - loss: 0.0241 - accuracy: 0.9935\n",
      "Epoch 40/40\n",
      "1875/1875 [==============================] - 5s 2ms/step - loss: 0.0263 - accuracy: 0.9927\n",
      "1875/1875 [==============================] - 4s 2ms/step - loss: 0.0232 - accuracy: 0.9936\n",
      "157/157 [==============================] - 0s 2ms/step - loss: 0.4776 - accuracy: 0.9522\n"
     ]
    }
   ],
   "source": [
    "train_error = []\n",
    "cv_error = []\n",
    "\n",
    "for i, model in enumerate(model_list):\n",
    "    print(f'Training Model_{i+1}')\n",
    "\n",
    "    model.compile(\n",
    "        loss=tf.keras.losses.SparseCategoricalCrossentropy(from_logits=True),\n",
    "        optimizer=tf.keras.optimizers.Adam(learning_rate=0.001),\n",
    "        metrics=['accuracy']\n",
    "    )\n",
    "\n",
    "    history = model.fit(x_train, y_train, epochs=40)\n",
    "    \n",
    "    _, train_loss = model.evaluate(x_train, y_train)  # calculate train loss\n",
    "    _, cv_loss = model.evaluate(x_cv, y_cv)  # calculate cv loss\n",
    "    \n",
    "    train_error.append(train_loss)\n",
    "    cv_error.append(cv_loss)\n"
   ]
  },
  {
   "cell_type": "code",
   "execution_count": 24,
   "id": "7ce7878a",
   "metadata": {},
   "outputs": [
    {
     "data": {
      "text/plain": [
       "[0.9954333305358887, 0.9932500123977661, 0.9936166405677795]"
      ]
     },
     "execution_count": 24,
     "metadata": {},
     "output_type": "execute_result"
    }
   ],
   "source": [
    "train_error"
   ]
  },
  {
   "cell_type": "code",
   "execution_count": 25,
   "id": "81d062b8",
   "metadata": {},
   "outputs": [
    {
     "data": {
      "text/plain": [
       "[0.9599999785423279, 0.9602000117301941, 0.9521999955177307]"
      ]
     },
     "execution_count": 25,
     "metadata": {},
     "output_type": "execute_result"
    }
   ],
   "source": [
    "cv_error"
   ]
  },
  {
   "cell_type": "code",
   "execution_count": 26,
   "id": "07f7eba0",
   "metadata": {},
   "outputs": [
    {
     "data": {
      "text/plain": [
       "(5000, 10)"
      ]
     },
     "execution_count": 26,
     "metadata": {},
     "output_type": "execute_result"
    }
   ],
   "source": [
    "y_pred_cv.shape"
   ]
  },
  {
   "cell_type": "code",
   "execution_count": null,
   "id": "3dfea757",
   "metadata": {},
   "outputs": [],
   "source": []
  },
  {
   "cell_type": "code",
   "execution_count": 27,
   "id": "04c8378e",
   "metadata": {},
   "outputs": [],
   "source": [
    "minimum_loss_train=min(train_error)\n",
    "min_index_train=train_error.index(minimum_loss_train)\n",
    "\n",
    "\n",
    "minimum_loss_cv=min(cv_error)\n",
    "min_index_cv=cv_error.index(minimum_loss_cv)"
   ]
  },
  {
   "cell_type": "code",
   "execution_count": 29,
   "id": "0ae12046",
   "metadata": {},
   "outputs": [
    {
     "name": "stdout",
     "output_type": "stream",
     "text": [
      "\n",
      "Minimum Loss is 0.9932500123977661\n",
      "Minimum Loss is 0.9521999955177307\n",
      "Best model according to test error is Model:2\n",
      "Best model according to cv error is Model:3\n",
      "\n",
      "\n"
     ]
    }
   ],
   "source": [
    "print(f'''\n",
    "Minimum Loss is {minimum_loss_train}\n",
    "Minimum Loss is {minimum_loss_cv}\n",
    "Best model according to test error is Model:{min_index_train+1}\n",
    "Best model according to cv error is Model:{min_index_cv+1}\n",
    "\n",
    "''')"
   ]
  },
  {
   "cell_type": "code",
   "execution_count": 32,
   "id": "627e468c",
   "metadata": {},
   "outputs": [
    {
     "name": "stdout",
     "output_type": "stream",
     "text": [
      "Epoch 1/40\n",
      "1875/1875 [==============================] - 5s 2ms/step - loss: 0.0173 - accuracy: 0.9950\n",
      "Epoch 2/40\n",
      "1875/1875 [==============================] - 5s 3ms/step - loss: 0.0178 - accuracy: 0.9951\n",
      "Epoch 3/40\n",
      "1875/1875 [==============================] - 5s 3ms/step - loss: 0.0157 - accuracy: 0.9956\n",
      "Epoch 4/40\n",
      "1875/1875 [==============================] - 5s 3ms/step - loss: 0.0178 - accuracy: 0.9951\n",
      "Epoch 5/40\n",
      "1875/1875 [==============================] - 4s 2ms/step - loss: 0.0166 - accuracy: 0.9954\n",
      "Epoch 6/40\n",
      "1875/1875 [==============================] - 4s 2ms/step - loss: 0.0157 - accuracy: 0.9956\n",
      "Epoch 7/40\n",
      "1875/1875 [==============================] - 4s 2ms/step - loss: 0.0155 - accuracy: 0.9956\n",
      "Epoch 8/40\n",
      "1875/1875 [==============================] - 4s 2ms/step - loss: 0.0187 - accuracy: 0.9948\n",
      "Epoch 9/40\n",
      "1875/1875 [==============================] - 5s 2ms/step - loss: 0.0151 - accuracy: 0.9956\n",
      "Epoch 10/40\n",
      "1875/1875 [==============================] - 5s 2ms/step - loss: 0.0160 - accuracy: 0.9954\n",
      "Epoch 11/40\n",
      "1875/1875 [==============================] - 5s 3ms/step - loss: 0.0160 - accuracy: 0.9954\n",
      "Epoch 12/40\n",
      "1875/1875 [==============================] - 5s 3ms/step - loss: 0.0163 - accuracy: 0.9955\n",
      "Epoch 13/40\n",
      "1875/1875 [==============================] - 5s 3ms/step - loss: 0.0138 - accuracy: 0.9962\n",
      "Epoch 14/40\n",
      "1875/1875 [==============================] - 5s 3ms/step - loss: 0.0159 - accuracy: 0.9955\n",
      "Epoch 15/40\n",
      "1875/1875 [==============================] - 5s 2ms/step - loss: 0.0172 - accuracy: 0.9953\n",
      "Epoch 16/40\n",
      "1875/1875 [==============================] - 5s 2ms/step - loss: 0.0131 - accuracy: 0.9962\n",
      "Epoch 17/40\n",
      "1875/1875 [==============================] - 5s 3ms/step - loss: 0.0182 - accuracy: 0.9950\n",
      "Epoch 18/40\n",
      "1875/1875 [==============================] - 5s 3ms/step - loss: 0.0160 - accuracy: 0.9957\n",
      "Epoch 19/40\n",
      "1875/1875 [==============================] - 5s 3ms/step - loss: 0.0156 - accuracy: 0.9954\n",
      "Epoch 20/40\n",
      "1875/1875 [==============================] - 5s 2ms/step - loss: 0.0144 - accuracy: 0.9961\n",
      "Epoch 21/40\n",
      "1875/1875 [==============================] - 4s 2ms/step - loss: 0.0153 - accuracy: 0.9954\n",
      "Epoch 22/40\n",
      "1875/1875 [==============================] - 5s 2ms/step - loss: 0.0119 - accuracy: 0.9965\n",
      "Epoch 23/40\n",
      "1875/1875 [==============================] - 5s 3ms/step - loss: 0.0169 - accuracy: 0.9955\n",
      "Epoch 24/40\n",
      "1875/1875 [==============================] - 5s 3ms/step - loss: 0.0153 - accuracy: 0.9957\n",
      "Epoch 25/40\n",
      "1875/1875 [==============================] - 5s 2ms/step - loss: 0.0175 - accuracy: 0.9955\n",
      "Epoch 26/40\n",
      "1875/1875 [==============================] - 4s 2ms/step - loss: 0.0140 - accuracy: 0.9961\n",
      "Epoch 27/40\n",
      "1875/1875 [==============================] - 4s 2ms/step - loss: 0.0134 - accuracy: 0.9962\n",
      "Epoch 28/40\n",
      "1875/1875 [==============================] - 5s 3ms/step - loss: 0.0167 - accuracy: 0.9954\n",
      "Epoch 29/40\n",
      "1875/1875 [==============================] - 5s 2ms/step - loss: 0.0172 - accuracy: 0.9956\n",
      "Epoch 30/40\n",
      "1875/1875 [==============================] - 5s 3ms/step - loss: 0.0131 - accuracy: 0.9963\n",
      "Epoch 31/40\n",
      "1875/1875 [==============================] - 5s 3ms/step - loss: 0.0139 - accuracy: 0.9961\n",
      "Epoch 32/40\n",
      "1875/1875 [==============================] - 5s 3ms/step - loss: 0.0172 - accuracy: 0.9949\n",
      "Epoch 33/40\n",
      "1875/1875 [==============================] - 5s 3ms/step - loss: 0.0119 - accuracy: 0.9969\n",
      "Epoch 34/40\n",
      "1875/1875 [==============================] - 5s 3ms/step - loss: 0.0117 - accuracy: 0.9968\n",
      "Epoch 35/40\n",
      "1875/1875 [==============================] - 5s 3ms/step - loss: 0.0179 - accuracy: 0.9951\n",
      "Epoch 36/40\n",
      "1875/1875 [==============================] - 5s 3ms/step - loss: 0.0116 - accuracy: 0.9969\n",
      "Epoch 37/40\n",
      "1875/1875 [==============================] - 5s 3ms/step - loss: 0.0164 - accuracy: 0.9956\n",
      "Epoch 38/40\n",
      "1875/1875 [==============================] - 5s 3ms/step - loss: 0.0154 - accuracy: 0.9958\n",
      "Epoch 39/40\n",
      "1875/1875 [==============================] - 5s 3ms/step - loss: 0.0116 - accuracy: 0.9970\n",
      "Epoch 40/40\n",
      "1875/1875 [==============================] - 5s 3ms/step - loss: 0.0141 - accuracy: 0.9960\n",
      "157/157 [==============================] - 0s 2ms/step\n",
      "157/157 [==============================] - 0s 2ms/step - loss: 0.4969 - accuracy: 0.9572\n"
     ]
    }
   ],
   "source": [
    "best_model=model_list[min_index_cv]\n",
    "best_model.compile(\n",
    " loss=tf.keras.losses.SparseCategoricalCrossentropy(from_logits=True),\n",
    "    optimizer=tf.keras.optimizers.Adam(learning_rate=0.001),\n",
    "    metrics=['accuracy']\n",
    ")\n",
    "best_model.fit(x_train,y_train,epochs=40)\n",
    "best_model_prediction=best_model.predict(x_test)\n",
    "_,test_error=best_model.evaluate(x_test,y_test)\n"
   ]
  },
  {
   "cell_type": "code",
   "execution_count": 33,
   "id": "1907e44a",
   "metadata": {},
   "outputs": [
    {
     "name": "stdout",
     "output_type": "stream",
     "text": [
      "\n",
      "Test Error is :0.9571999907493591\n",
      "\n"
     ]
    }
   ],
   "source": [
    "print(f'''\n",
    "Test Error is :{test_error}\n",
    "''')"
   ]
  },
  {
   "cell_type": "code",
   "execution_count": 35,
   "id": "b33ae50d",
   "metadata": {},
   "outputs": [
    {
     "data": {
      "text/plain": [
       "['C:/Users/ACER/Desktop/Handwritten Digits Recognition/Models/MNIST.joblib']"
      ]
     },
     "execution_count": 35,
     "metadata": {},
     "output_type": "execute_result"
    }
   ],
   "source": [
    "import joblib\n",
    "joblib.dump(model,'C:/Users/ACER/Desktop/Handwritten Digits Recognition/Models/MNIST.joblib')"
   ]
  },
  {
   "cell_type": "code",
   "execution_count": null,
   "id": "1d60ad18",
   "metadata": {},
   "outputs": [],
   "source": []
  }
 ],
 "metadata": {
  "kernelspec": {
   "display_name": "Python 3 (ipykernel)",
   "language": "python",
   "name": "python3"
  },
  "language_info": {
   "codemirror_mode": {
    "name": "ipython",
    "version": 3
   },
   "file_extension": ".py",
   "mimetype": "text/x-python",
   "name": "python",
   "nbconvert_exporter": "python",
   "pygments_lexer": "ipython3",
   "version": "3.9.13"
  }
 },
 "nbformat": 4,
 "nbformat_minor": 5
}
